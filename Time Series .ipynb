{
 "cells": [
  {
   "cell_type": "code",
   "execution_count": 1,
   "id": "104f804d",
   "metadata": {},
   "outputs": [],
   "source": [
    "import pandas as pd"
   ]
  },
  {
   "cell_type": "code",
   "execution_count": 2,
   "id": "6eae7899",
   "metadata": {},
   "outputs": [],
   "source": [
    "import numpy as np"
   ]
  },
  {
   "cell_type": "code",
   "execution_count": 3,
   "id": "105d998e",
   "metadata": {},
   "outputs": [],
   "source": [
    "import matplotlib.pyplot as plt"
   ]
  },
  {
   "cell_type": "code",
   "execution_count": 4,
   "id": "37fc1619",
   "metadata": {},
   "outputs": [],
   "source": [
    "from statsmodels.tsa.stattools import adfuller,acf,pacf"
   ]
  },
  {
   "cell_type": "code",
   "execution_count": 5,
   "id": "ad931336",
   "metadata": {},
   "outputs": [],
   "source": [
    "from statsmodels.tsa.arima_model import ARIMA"
   ]
  },
  {
   "cell_type": "code",
   "execution_count": 6,
   "id": "f499b064",
   "metadata": {},
   "outputs": [],
   "source": [
    "from statsmodels.tsa.seasonal import seasonal_decompose"
   ]
  },
  {
   "cell_type": "code",
   "execution_count": 9,
   "id": "1673fed5",
   "metadata": {},
   "outputs": [],
   "source": [
    "path = \"C:/Users/Ansari Aaquib/Downloads/drive-download-20210519T143124Z-001/Python/Time Series/mrf/mrf.csv\""
   ]
  },
  {
   "cell_type": "code",
   "execution_count": 10,
   "id": "0aebfda1",
   "metadata": {},
   "outputs": [],
   "source": [
    "stock = pd.read_csv(path)"
   ]
  },
  {
   "cell_type": "code",
   "execution_count": 11,
   "id": "dfe3a1c7",
   "metadata": {},
   "outputs": [
    {
     "data": {
      "text/html": [
       "<div>\n",
       "<style scoped>\n",
       "    .dataframe tbody tr th:only-of-type {\n",
       "        vertical-align: middle;\n",
       "    }\n",
       "\n",
       "    .dataframe tbody tr th {\n",
       "        vertical-align: top;\n",
       "    }\n",
       "\n",
       "    .dataframe thead th {\n",
       "        text-align: right;\n",
       "    }\n",
       "</style>\n",
       "<table border=\"1\" class=\"dataframe\">\n",
       "  <thead>\n",
       "    <tr style=\"text-align: right;\">\n",
       "      <th></th>\n",
       "      <th>Month</th>\n",
       "      <th>Open Price</th>\n",
       "      <th>High Price</th>\n",
       "      <th>Low Price</th>\n",
       "      <th>Close Price</th>\n",
       "      <th>No.of Shares</th>\n",
       "      <th>No. of Trades</th>\n",
       "      <th>Total Turnover (Rs.)</th>\n",
       "      <th>Deliverable Quantity</th>\n",
       "      <th>% Deli. Qty to Traded Qty</th>\n",
       "      <th>Spread High-Low</th>\n",
       "      <th>Spread Close-Open</th>\n",
       "    </tr>\n",
       "  </thead>\n",
       "  <tbody>\n",
       "    <tr>\n",
       "      <th>0</th>\n",
       "      <td>Jan-06</td>\n",
       "      <td>2780.0</td>\n",
       "      <td>2895.5</td>\n",
       "      <td>2670.00</td>\n",
       "      <td>2811.60</td>\n",
       "      <td>39623</td>\n",
       "      <td>3358</td>\n",
       "      <td>109309329</td>\n",
       "      <td>27061</td>\n",
       "      <td>68.30</td>\n",
       "      <td>225.50</td>\n",
       "      <td>31.60</td>\n",
       "    </tr>\n",
       "    <tr>\n",
       "      <th>1</th>\n",
       "      <td>Feb-06</td>\n",
       "      <td>2820.0</td>\n",
       "      <td>3399.0</td>\n",
       "      <td>2800.00</td>\n",
       "      <td>3056.45</td>\n",
       "      <td>77350</td>\n",
       "      <td>8001</td>\n",
       "      <td>242294622</td>\n",
       "      <td>42901</td>\n",
       "      <td>55.46</td>\n",
       "      <td>599.00</td>\n",
       "      <td>236.45</td>\n",
       "    </tr>\n",
       "    <tr>\n",
       "      <th>2</th>\n",
       "      <td>Mar-06</td>\n",
       "      <td>3075.0</td>\n",
       "      <td>3287.5</td>\n",
       "      <td>3040.00</td>\n",
       "      <td>3103.20</td>\n",
       "      <td>55500</td>\n",
       "      <td>4988</td>\n",
       "      <td>176800378</td>\n",
       "      <td>39229</td>\n",
       "      <td>70.68</td>\n",
       "      <td>247.50</td>\n",
       "      <td>28.20</td>\n",
       "    </tr>\n",
       "    <tr>\n",
       "      <th>3</th>\n",
       "      <td>Apr-06</td>\n",
       "      <td>3160.0</td>\n",
       "      <td>4051.0</td>\n",
       "      <td>3131.00</td>\n",
       "      <td>3456.15</td>\n",
       "      <td>131712</td>\n",
       "      <td>12834</td>\n",
       "      <td>496800616</td>\n",
       "      <td>59934</td>\n",
       "      <td>45.50</td>\n",
       "      <td>920.00</td>\n",
       "      <td>296.15</td>\n",
       "    </tr>\n",
       "    <tr>\n",
       "      <th>4</th>\n",
       "      <td>May-06</td>\n",
       "      <td>3550.0</td>\n",
       "      <td>3650.0</td>\n",
       "      <td>2747.00</td>\n",
       "      <td>2789.80</td>\n",
       "      <td>29158</td>\n",
       "      <td>4432</td>\n",
       "      <td>96482558</td>\n",
       "      <td>18375</td>\n",
       "      <td>63.02</td>\n",
       "      <td>903.00</td>\n",
       "      <td>-760.20</td>\n",
       "    </tr>\n",
       "    <tr>\n",
       "      <th>5</th>\n",
       "      <td>Jun-06</td>\n",
       "      <td>2860.0</td>\n",
       "      <td>2860.0</td>\n",
       "      <td>2025.20</td>\n",
       "      <td>2395.85</td>\n",
       "      <td>19944</td>\n",
       "      <td>3030</td>\n",
       "      <td>48817959</td>\n",
       "      <td>12863</td>\n",
       "      <td>64.50</td>\n",
       "      <td>834.80</td>\n",
       "      <td>-464.15</td>\n",
       "    </tr>\n",
       "    <tr>\n",
       "      <th>6</th>\n",
       "      <td>Jul-06</td>\n",
       "      <td>2439.0</td>\n",
       "      <td>2970.0</td>\n",
       "      <td>2400.00</td>\n",
       "      <td>2942.40</td>\n",
       "      <td>38013</td>\n",
       "      <td>2806</td>\n",
       "      <td>97822495</td>\n",
       "      <td>27924</td>\n",
       "      <td>73.46</td>\n",
       "      <td>570.00</td>\n",
       "      <td>503.40</td>\n",
       "    </tr>\n",
       "    <tr>\n",
       "      <th>7</th>\n",
       "      <td>Aug-06</td>\n",
       "      <td>2940.0</td>\n",
       "      <td>3835.0</td>\n",
       "      <td>2884.05</td>\n",
       "      <td>3708.30</td>\n",
       "      <td>83527</td>\n",
       "      <td>9440</td>\n",
       "      <td>288265551</td>\n",
       "      <td>44988</td>\n",
       "      <td>53.86</td>\n",
       "      <td>950.95</td>\n",
       "      <td>768.30</td>\n",
       "    </tr>\n",
       "    <tr>\n",
       "      <th>8</th>\n",
       "      <td>Sep-06</td>\n",
       "      <td>3667.0</td>\n",
       "      <td>4044.0</td>\n",
       "      <td>3667.00</td>\n",
       "      <td>3836.75</td>\n",
       "      <td>50404</td>\n",
       "      <td>5396</td>\n",
       "      <td>193931445</td>\n",
       "      <td>32615</td>\n",
       "      <td>64.71</td>\n",
       "      <td>377.00</td>\n",
       "      <td>169.75</td>\n",
       "    </tr>\n",
       "    <tr>\n",
       "      <th>9</th>\n",
       "      <td>Oct-06</td>\n",
       "      <td>3885.0</td>\n",
       "      <td>4770.0</td>\n",
       "      <td>3845.00</td>\n",
       "      <td>4185.50</td>\n",
       "      <td>107956</td>\n",
       "      <td>13788</td>\n",
       "      <td>477329035</td>\n",
       "      <td>45239</td>\n",
       "      <td>41.91</td>\n",
       "      <td>925.00</td>\n",
       "      <td>300.50</td>\n",
       "    </tr>\n",
       "  </tbody>\n",
       "</table>\n",
       "</div>"
      ],
      "text/plain": [
       "    Month  Open Price  High Price  Low Price  Close Price  No.of Shares  \\\n",
       "0  Jan-06      2780.0      2895.5    2670.00      2811.60         39623   \n",
       "1  Feb-06      2820.0      3399.0    2800.00      3056.45         77350   \n",
       "2  Mar-06      3075.0      3287.5    3040.00      3103.20         55500   \n",
       "3  Apr-06      3160.0      4051.0    3131.00      3456.15        131712   \n",
       "4  May-06      3550.0      3650.0    2747.00      2789.80         29158   \n",
       "5  Jun-06      2860.0      2860.0    2025.20      2395.85         19944   \n",
       "6  Jul-06      2439.0      2970.0    2400.00      2942.40         38013   \n",
       "7  Aug-06      2940.0      3835.0    2884.05      3708.30         83527   \n",
       "8  Sep-06      3667.0      4044.0    3667.00      3836.75         50404   \n",
       "9  Oct-06      3885.0      4770.0    3845.00      4185.50        107956   \n",
       "\n",
       "   No. of Trades  Total Turnover (Rs.)  Deliverable Quantity  \\\n",
       "0           3358             109309329                 27061   \n",
       "1           8001             242294622                 42901   \n",
       "2           4988             176800378                 39229   \n",
       "3          12834             496800616                 59934   \n",
       "4           4432              96482558                 18375   \n",
       "5           3030              48817959                 12863   \n",
       "6           2806              97822495                 27924   \n",
       "7           9440             288265551                 44988   \n",
       "8           5396             193931445                 32615   \n",
       "9          13788             477329035                 45239   \n",
       "\n",
       "   % Deli. Qty to Traded Qty  Spread High-Low  Spread Close-Open  \n",
       "0                      68.30           225.50              31.60  \n",
       "1                      55.46           599.00             236.45  \n",
       "2                      70.68           247.50              28.20  \n",
       "3                      45.50           920.00             296.15  \n",
       "4                      63.02           903.00            -760.20  \n",
       "5                      64.50           834.80            -464.15  \n",
       "6                      73.46           570.00             503.40  \n",
       "7                      53.86           950.95             768.30  \n",
       "8                      64.71           377.00             169.75  \n",
       "9                      41.91           925.00             300.50  "
      ]
     },
     "execution_count": 11,
     "metadata": {},
     "output_type": "execute_result"
    }
   ],
   "source": [
    "stock.head(10)"
   ]
  },
  {
   "cell_type": "code",
   "execution_count": 12,
   "id": "90fe8d2a",
   "metadata": {},
   "outputs": [],
   "source": [
    "mystock = stock[['Close Price']]"
   ]
  },
  {
   "cell_type": "code",
   "execution_count": 13,
   "id": "e5f7bb3b",
   "metadata": {},
   "outputs": [
    {
     "name": "stdout",
     "output_type": "stream",
     "text": [
      "     Close Price\n",
      "0        2811.60\n",
      "1        3056.45\n",
      "2        3103.20\n",
      "3        3456.15\n",
      "4        2789.80\n",
      "..           ...\n",
      "120     35607.10\n",
      "121     32429.35\n",
      "122     38368.50\n",
      "123     33791.60\n",
      "124     33759.60\n",
      "\n",
      "[125 rows x 1 columns]\n"
     ]
    }
   ],
   "source": [
    "print(mystock)"
   ]
  },
  {
   "cell_type": "code",
   "execution_count": 15,
   "id": "361cb69e",
   "metadata": {},
   "outputs": [
    {
     "data": {
      "image/png": "[encoded data removed]",
      "text/plain": [
       "<Figure size 432x288 with 4 Axes>"
      ]
     },
     "metadata": {
      "needs_background": "light"
     },
     "output_type": "display_data"
    }
   ],
   "source": [
    "seasonal_decompose(mystock,period=12).plot();"
   ]
  },
  {
   "cell_type": "code",
   "execution_count": 17,
   "id": "45f0b359",
   "metadata": {},
   "outputs": [
    {
     "data": {
      "text/plain": [
       "(-0.013389193385995424,\n",
       " 0.9574107029213336,\n",
       " 0,\n",
       " 124,\n",
       " {'1%': -3.484219653271961,\n",
       "  '5%': -2.885145235641637,\n",
       "  '10%': -2.579359138917794},\n",
       " 1978.6902898317956)"
      ]
     },
     "execution_count": 17,
     "metadata": {},
     "output_type": "execute_result"
    }
   ],
   "source": [
    "adfuller(mystock)"
   ]
  },
  {
   "cell_type": "code",
   "execution_count": 18,
   "id": "5f069592",
   "metadata": {},
   "outputs": [
    {
     "data": {
      "text/plain": [
       "'pvalue=0.9574107029213336. Data is not Stationary. Make the data stationary before model building'"
      ]
     },
     "execution_count": 18,
     "metadata": {},
     "output_type": "execute_result"
    }
   ],
   "source": [
    "def checkStationarity(data):\n",
    "    pvalue = adfuller(data)[1]\n",
    "    \n",
    "    if pvalue < 0.05:\n",
    "        msg = \"pvalue={}. Data is Stationary. Proceed to model building\".format(pvalue)\n",
    "    else:\n",
    "        msg = \"pvalue={}. Data is not Stationary. Make the data stationary before model building\".format(pvalue)\n",
    "        \n",
    "    return(msg)\n",
    "\n",
    "checkStationarity(mystock)\n",
    "\n"
   ]
  },
  {
   "cell_type": "code",
   "execution_count": 19,
   "id": "e3ec7acb",
   "metadata": {},
   "outputs": [
    {
     "data": {
      "text/plain": [
       "Text(0.5, 1.0, 'Stock Close Prices')"
      ]
     },
     "execution_count": 19,
     "metadata": {},
     "output_type": "execute_result"
    },
    {
     "data": {
      "image/png": "[encoded data removed]",
      "text/plain": [
       "<Figure size 432x288 with 1 Axes>"
      ]
     },
     "metadata": {
      "needs_background": "light"
     },
     "output_type": "display_data"
    }
   ],
   "source": [
    "plt.plot(mystock)\n",
    "plt.title('Stock Close Prices')\n"
   ]
  },
  {
   "cell_type": "code",
   "execution_count": 20,
   "id": "e1371620",
   "metadata": {},
   "outputs": [
    {
     "data": {
      "text/html": [
       "<div>\n",
       "<style scoped>\n",
       "    .dataframe tbody tr th:only-of-type {\n",
       "        vertical-align: middle;\n",
       "    }\n",
       "\n",
       "    .dataframe tbody tr th {\n",
       "        vertical-align: top;\n",
       "    }\n",
       "\n",
       "    .dataframe thead th {\n",
       "        text-align: right;\n",
       "    }\n",
       "</style>\n",
       "<table border=\"1\" class=\"dataframe\">\n",
       "  <thead>\n",
       "    <tr style=\"text-align: right;\">\n",
       "      <th></th>\n",
       "      <th>Close Price</th>\n",
       "    </tr>\n",
       "  </thead>\n",
       "  <tbody>\n",
       "    <tr>\n",
       "      <th>0</th>\n",
       "      <td>NaN</td>\n",
       "    </tr>\n",
       "    <tr>\n",
       "      <th>1</th>\n",
       "      <td>2811.60</td>\n",
       "    </tr>\n",
       "    <tr>\n",
       "      <th>2</th>\n",
       "      <td>3056.45</td>\n",
       "    </tr>\n",
       "    <tr>\n",
       "      <th>3</th>\n",
       "      <td>3103.20</td>\n",
       "    </tr>\n",
       "    <tr>\n",
       "      <th>4</th>\n",
       "      <td>3456.15</td>\n",
       "    </tr>\n",
       "    <tr>\n",
       "      <th>...</th>\n",
       "      <td>...</td>\n",
       "    </tr>\n",
       "    <tr>\n",
       "      <th>120</th>\n",
       "      <td>39847.60</td>\n",
       "    </tr>\n",
       "    <tr>\n",
       "      <th>121</th>\n",
       "      <td>35607.10</td>\n",
       "    </tr>\n",
       "    <tr>\n",
       "      <th>122</th>\n",
       "      <td>32429.35</td>\n",
       "    </tr>\n",
       "    <tr>\n",
       "      <th>123</th>\n",
       "      <td>38368.50</td>\n",
       "    </tr>\n",
       "    <tr>\n",
       "      <th>124</th>\n",
       "      <td>33791.60</td>\n",
       "    </tr>\n",
       "  </tbody>\n",
       "</table>\n",
       "<p>125 rows × 1 columns</p>\n",
       "</div>"
      ],
      "text/plain": [
       "     Close Price\n",
       "0            NaN\n",
       "1        2811.60\n",
       "2        3056.45\n",
       "3        3103.20\n",
       "4        3456.15\n",
       "..           ...\n",
       "120     39847.60\n",
       "121     35607.10\n",
       "122     32429.35\n",
       "123     38368.50\n",
       "124     33791.60\n",
       "\n",
       "[125 rows x 1 columns]"
      ]
     },
     "execution_count": 20,
     "metadata": {},
     "output_type": "execute_result"
    }
   ],
   "source": [
    "mystock.shift()"
   ]
  },
  {
   "cell_type": "code",
   "execution_count": 21,
   "id": "7bc36ef7",
   "metadata": {},
   "outputs": [
    {
     "data": {
      "text/html": [
       "<div>\n",
       "<style scoped>\n",
       "    .dataframe tbody tr th:only-of-type {\n",
       "        vertical-align: middle;\n",
       "    }\n",
       "\n",
       "    .dataframe tbody tr th {\n",
       "        vertical-align: top;\n",
       "    }\n",
       "\n",
       "    .dataframe thead th {\n",
       "        text-align: right;\n",
       "    }\n",
       "</style>\n",
       "<table border=\"1\" class=\"dataframe\">\n",
       "  <thead>\n",
       "    <tr style=\"text-align: right;\">\n",
       "      <th></th>\n",
       "      <th>Close Price</th>\n",
       "    </tr>\n",
       "  </thead>\n",
       "  <tbody>\n",
       "    <tr>\n",
       "      <th>0</th>\n",
       "      <td>2811.60</td>\n",
       "    </tr>\n",
       "    <tr>\n",
       "      <th>1</th>\n",
       "      <td>3056.45</td>\n",
       "    </tr>\n",
       "    <tr>\n",
       "      <th>2</th>\n",
       "      <td>3103.20</td>\n",
       "    </tr>\n",
       "    <tr>\n",
       "      <th>3</th>\n",
       "      <td>3456.15</td>\n",
       "    </tr>\n",
       "    <tr>\n",
       "      <th>4</th>\n",
       "      <td>2789.80</td>\n",
       "    </tr>\n",
       "    <tr>\n",
       "      <th>...</th>\n",
       "      <td>...</td>\n",
       "    </tr>\n",
       "    <tr>\n",
       "      <th>120</th>\n",
       "      <td>35607.10</td>\n",
       "    </tr>\n",
       "    <tr>\n",
       "      <th>121</th>\n",
       "      <td>32429.35</td>\n",
       "    </tr>\n",
       "    <tr>\n",
       "      <th>122</th>\n",
       "      <td>38368.50</td>\n",
       "    </tr>\n",
       "    <tr>\n",
       "      <th>123</th>\n",
       "      <td>33791.60</td>\n",
       "    </tr>\n",
       "    <tr>\n",
       "      <th>124</th>\n",
       "      <td>33759.60</td>\n",
       "    </tr>\n",
       "  </tbody>\n",
       "</table>\n",
       "<p>125 rows × 1 columns</p>\n",
       "</div>"
      ],
      "text/plain": [
       "     Close Price\n",
       "0        2811.60\n",
       "1        3056.45\n",
       "2        3103.20\n",
       "3        3456.15\n",
       "4        2789.80\n",
       "..           ...\n",
       "120     35607.10\n",
       "121     32429.35\n",
       "122     38368.50\n",
       "123     33791.60\n",
       "124     33759.60\n",
       "\n",
       "[125 rows x 1 columns]"
      ]
     },
     "execution_count": 21,
     "metadata": {},
     "output_type": "execute_result"
    }
   ],
   "source": [
    "mystock"
   ]
  },
  {
   "cell_type": "code",
   "execution_count": 23,
   "id": "2474ced1",
   "metadata": {},
   "outputs": [
    {
     "name": "stdout",
     "output_type": "stream",
     "text": [
      "     Close Price\n",
      "0            NaN\n",
      "1         244.85\n",
      "2          46.75\n",
      "3         352.95\n",
      "4        -666.35\n",
      "..           ...\n",
      "120     -4240.50\n",
      "121     -3177.75\n",
      "122      5939.15\n",
      "123     -4576.90\n",
      "124       -32.00\n",
      "\n",
      "[125 rows x 1 columns]\n"
     ]
    }
   ],
   "source": [
    "diff_mystock = mystock - mystock.shift()\n",
    "print(diff_mystock)\n"
   ]
  },
  {
   "cell_type": "code",
   "execution_count": 24,
   "id": "1e23ff6d",
   "metadata": {},
   "outputs": [
    {
     "name": "stdout",
     "output_type": "stream",
     "text": [
      "Before removing Nulls,total records =  125\n"
     ]
    }
   ],
   "source": [
    "print('Before removing Nulls,total records = ', len(diff_mystock))"
   ]
  },
  {
   "cell_type": "code",
   "execution_count": 25,
   "id": "a91979b6",
   "metadata": {},
   "outputs": [
    {
     "data": {
      "text/plain": [
       "Close Price    1\n",
       "dtype: int64"
      ]
     },
     "execution_count": 25,
     "metadata": {},
     "output_type": "execute_result"
    }
   ],
   "source": [
    "diff_mystock.isnull().sum()"
   ]
  },
  {
   "cell_type": "code",
   "execution_count": 26,
   "id": "685670c2",
   "metadata": {},
   "outputs": [],
   "source": [
    "diff_mystock.dropna(inplace=True)"
   ]
  },
  {
   "cell_type": "code",
   "execution_count": 27,
   "id": "dd84dbec",
   "metadata": {},
   "outputs": [
    {
     "data": {
      "text/plain": [
       "Close Price    0\n",
       "dtype: int64"
      ]
     },
     "execution_count": 27,
     "metadata": {},
     "output_type": "execute_result"
    }
   ],
   "source": [
    "diff_mystock.isnull().sum()"
   ]
  },
  {
   "cell_type": "code",
   "execution_count": 21,
   "id": "d4cf800d",
   "metadata": {},
   "outputs": [
    {
     "name": "stdout",
     "output_type": "stream",
     "text": [
      "After removing Nulls,total records =  124\n"
     ]
    }
   ],
   "source": [
    "print('After removing Nulls,total records = ', len(diff_mystock))"
   ]
  },
  {
   "cell_type": "code",
   "execution_count": 28,
   "id": "4b4cfd04",
   "metadata": {},
   "outputs": [
    {
     "name": "stdout",
     "output_type": "stream",
     "text": [
      "     Close Price\n",
      "1         244.85\n",
      "2          46.75\n",
      "3         352.95\n",
      "4        -666.35\n",
      "5        -393.95\n",
      "..           ...\n",
      "120     -4240.50\n",
      "121     -3177.75\n",
      "122      5939.15\n",
      "123     -4576.90\n",
      "124       -32.00\n",
      "\n",
      "[124 rows x 1 columns]\n"
     ]
    }
   ],
   "source": [
    "print(diff_mystock)"
   ]
  },
  {
   "cell_type": "code",
   "execution_count": 29,
   "id": "a6a6a686",
   "metadata": {},
   "outputs": [
    {
     "data": {
      "text/plain": [
       "'pvalue=5.060193512253538e-23. Data is Stationary. Proceed to model building'"
      ]
     },
     "execution_count": 29,
     "metadata": {},
     "output_type": "execute_result"
    }
   ],
   "source": [
    "checkStationarity(diff_mystock)"
   ]
  },
  {
   "cell_type": "code",
   "execution_count": 30,
   "id": "7843791d",
   "metadata": {},
   "outputs": [
    {
     "data": {
      "text/plain": [
       "Text(0.5, 1.0, 'Differenced Close Price Data')"
      ]
     },
     "execution_count": 30,
     "metadata": {},
     "output_type": "execute_result"
    },
    {
     "data": {
      "image/png": "[encoded data removed]",
      "text/plain": [
       "<Figure size 432x288 with 2 Axes>"
      ]
     },
     "metadata": {
      "needs_background": "light"
     },
     "output_type": "display_data"
    }
   ],
   "source": [
    "plt.subplot(121)\n",
    "plt.plot(mystock,color='red')\n",
    "plt.title('Actual Close Price Data')\n",
    "\n",
    "plt.subplot(122)\n",
    "plt.plot(diff_mystock,color='blue')\n",
    "plt.title('Differenced Close Price Data')"
   ]
  },
  {
   "cell_type": "code",
   "execution_count": 25,
   "id": "d23e7b83",
   "metadata": {},
   "outputs": [],
   "source": [
    "lags=20"
   ]
  },
  {
   "cell_type": "code",
   "execution_count": 28,
   "id": "35de6903",
   "metadata": {},
   "outputs": [],
   "source": [
    "lag_acf = acf(diff_mystock, nlags=lags)\n",
    "lag_pacf = pacf(diff_mystock, nlags=lags, method='ols')"
   ]
  },
  {
   "cell_type": "code",
   "execution_count": 29,
   "id": "45a3cab3",
   "metadata": {},
   "outputs": [
    {
     "data": {
      "text/plain": [
       "Text(0.5, 1.0, 'Auto Correlation [ACF]')"
      ]
     },
     "execution_count": 29,
     "metadata": {},
     "output_type": "execute_result"
    },
    {
     "data": {
      "image/png": "[encoded data removed]",
      "text/plain": [
       "<Figure size 432x288 with 2 Axes>"
      ]
     },
     "metadata": {
      "needs_background": "light"
     },
     "output_type": "display_data"
    }
   ],
   "source": [
    "plt.subplot(121)\n",
    "plt.plot(lag_pacf)\n",
    "plt.axhline(y=0,linestyle='-',color='gray')\n",
    "plt.axhline(y=-1.96/np.sqrt(len(diff_mystock)),linestyle='--',color='green')\n",
    "plt.axhline(y=1.96/np.sqrt(len(diff_mystock)),linestyle='--',color='green')\n",
    "plt.title('Partial Auto Correlation [PACF]')\n",
    "\n",
    "plt.subplot(122)\n",
    "plt.plot(lag_acf)\n",
    "plt.axhline(y=0,linestyle='-',color='gray')\n",
    "plt.axhline(y=-1.96/np.sqrt(len(diff_mystock)),linestyle='--',color='green')\n",
    "plt.axhline(y=1.96/np.sqrt(len(diff_mystock)),linestyle='--',color='green')\n",
    "plt.title('Auto Correlation [ACF]')\n"
   ]
  },
  {
   "cell_type": "code",
   "execution_count": 30,
   "id": "e09f796f",
   "metadata": {},
   "outputs": [],
   "source": [
    "p=5; q=1; d=0"
   ]
  },
  {
   "cell_type": "code",
   "execution_count": 32,
   "id": "f3dfe7fa",
   "metadata": {},
   "outputs": [
    {
     "name": "stderr",
     "output_type": "stream",
     "text": [
      "C:\\ProgramData\\Anaconda3\\lib\\site-packages\\statsmodels\\tsa\\arima_model.py:472: FutureWarning: \n",
      "statsmodels.tsa.arima_model.ARMA and statsmodels.tsa.arima_model.ARIMA have\n",
      "been deprecated in favor of statsmodels.tsa.arima.model.ARIMA (note the .\n",
      "between arima and model) and\n",
      "statsmodels.tsa.SARIMAX. These will be removed after the 0.12 release.\n",
      "\n",
      "statsmodels.tsa.arima.model.ARIMA makes use of the statespace framework and\n",
      "is both well tested and maintained.\n",
      "\n",
      "To silence this warning and continue using ARMA and ARIMA until they are\n",
      "removed, use:\n",
      "\n",
      "import warnings\n",
      "warnings.filterwarnings('ignore', 'statsmodels.tsa.arima_model.ARMA',\n",
      "                        FutureWarning)\n",
      "warnings.filterwarnings('ignore', 'statsmodels.tsa.arima_model.ARIMA',\n",
      "                        FutureWarning)\n",
      "\n",
      "  warnings.warn(ARIMA_DEPRECATION_WARN, FutureWarning)\n",
      "C:\\ProgramData\\Anaconda3\\lib\\site-packages\\statsmodels\\tsa\\base\\tsa_model.py:578: ValueWarning: An unsupported index was provided and will be ignored when e.g. forecasting.\n",
      "  warnings.warn('An unsupported index was provided and will be'\n"
     ]
    }
   ],
   "source": [
    "ml = ARIMA(diff_mystock, order = (p,d,q)).fit()"
   ]
  },
  {
   "cell_type": "code",
   "execution_count": 33,
   "id": "7b3d9847",
   "metadata": {},
   "outputs": [
    {
     "name": "stdout",
     "output_type": "stream",
     "text": [
      "                              ARMA Model Results                              \n",
      "==============================================================================\n",
      "Dep. Variable:            Close Price   No. Observations:                  124\n",
      "Model:                     ARMA(5, 1)   Log Likelihood               -1092.570\n",
      "Method:                       css-mle   S.D. of innovations           1618.666\n",
      "Date:                Tue, 06 Jul 2021   AIC                           2201.141\n",
      "Time:                        19:53:29   BIC                           2223.703\n",
      "Sample:                             0   HQIC                          2210.306\n",
      "                                                                              \n",
      "=====================================================================================\n",
      "                        coef    std err          z      P>|z|      [0.025      0.975]\n",
      "-------------------------------------------------------------------------------------\n",
      "const               251.7505    138.039      1.824      0.068     -18.801     522.302\n",
      "ar.L1.Close Price    -0.9930      0.103     -9.685      0.000      -1.194      -0.792\n",
      "ar.L2.Close Price    -0.0717      0.128     -0.562      0.574      -0.322       0.178\n",
      "ar.L3.Close Price     0.1233      0.127      0.969      0.333      -0.126       0.373\n",
      "ar.L4.Close Price     0.0499      0.128      0.391      0.696      -0.200       0.300\n",
      "ar.L5.Close Price    -0.1287      0.099     -1.306      0.191      -0.322       0.064\n",
      "ma.L1.Close Price     0.9156      0.057     16.034      0.000       0.804       1.028\n",
      "                                    Roots                                    \n",
      "=============================================================================\n",
      "                  Real          Imaginary           Modulus         Frequency\n",
      "-----------------------------------------------------------------------------\n",
      "AR.1           -1.0174           -0.0000j            1.0174           -0.5000\n",
      "AR.2           -0.8538           -1.1425j            1.4263           -0.3521\n",
      "AR.3           -0.8538           +1.1425j            1.4263            0.3521\n",
      "AR.4            1.5564           -1.1536j            1.9373           -0.1015\n",
      "AR.5            1.5564           +1.1536j            1.9373            0.1015\n",
      "MA.1           -1.0922           +0.0000j            1.0922            0.5000\n",
      "-----------------------------------------------------------------------------\n"
     ]
    }
   ],
   "source": [
    "print(ml.summary())"
   ]
  },
  {
   "cell_type": "code",
   "execution_count": 34,
   "id": "06617c2d",
   "metadata": {},
   "outputs": [
    {
     "data": {
      "text/plain": [
       "Text(0.5, 1.0, 'Model Residuals Distribution')"
      ]
     },
     "execution_count": 34,
     "metadata": {},
     "output_type": "execute_result"
    },
    {
     "data": {
      "image/png": "[encoded data removed]",
      "text/plain": [
       "<Figure size 432x288 with 1 Axes>"
      ]
     },
     "metadata": {
      "needs_background": "light"
     },
     "output_type": "display_data"
    }
   ],
   "source": [
    "plt.hist(ml.resid)\n",
    "plt.title('Model Residuals Distribution')"
   ]
  },
  {
   "cell_type": "code",
   "execution_count": 35,
   "id": "1ef548bf",
   "metadata": {},
   "outputs": [],
   "source": [
    "import statsmodels.api as sm"
   ]
  },
  {
   "cell_type": "code",
   "execution_count": 36,
   "id": "2df14733",
   "metadata": {},
   "outputs": [
    {
     "name": "stderr",
     "output_type": "stream",
     "text": [
      "C:\\ProgramData\\Anaconda3\\lib\\site-packages\\statsmodels\\stats\\diagnostic.py:559: FutureWarning: The value returned will change to a single DataFrame after 0.12 is released.  Set return_df to True to use to return a DataFrame now.  Set return_df to False to silence this warning.\n",
      "  warnings.warn(msg, FutureWarning)\n"
     ]
    }
   ],
   "source": [
    "pvalue = sm.stats.acorr_ljungbox(ml.resid,lags=[1])[1]"
   ]
  },
  {
   "cell_type": "code",
   "execution_count": 37,
   "id": "b071f7b7",
   "metadata": {},
   "outputs": [
    {
     "name": "stdout",
     "output_type": "stream",
     "text": [
      "FTR H0: Good model\n"
     ]
    }
   ],
   "source": [
    "if pvalue < 0.05:\n",
    "    print('Reject H0: Bad model')\n",
    "else:\n",
    "    print('FTR H0: Good model')"
   ]
  },
  {
   "cell_type": "code",
   "execution_count": 39,
   "id": "68e988b2",
   "metadata": {},
   "outputs": [
    {
     "name": "stdout",
     "output_type": "stream",
     "text": [
      "AIC=2201.1406095046773\n",
      "BIC=2223.7028620295177\n"
     ]
    }
   ],
   "source": [
    "print('AIC={}\\nBIC={}'.format(ml.aic,ml.bic))"
   ]
  },
  {
   "cell_type": "code",
   "execution_count": 40,
   "id": "364d9867",
   "metadata": {},
   "outputs": [],
   "source": [
    "pred = ml.forecast(steps=11)"
   ]
  },
  {
   "cell_type": "code",
   "execution_count": 41,
   "id": "1bfa5c07",
   "metadata": {},
   "outputs": [
    {
     "name": "stdout",
     "output_type": "stream",
     "text": [
      "(array([ 922.1987849 , -263.54980074, -292.82846559, 1519.59302165,\n",
      "       -961.70373162, 1186.63227967, -394.12031377,  809.86302219,\n",
      "       -364.68134302,  947.1093787 , -478.3309489 ]), array([1618.6661815 , 1623.50880391, 1623.53033608, 1635.83177262,\n",
      "       1641.31785051, 1644.054477  , 1650.43681813, 1656.77691906,\n",
      "       1659.17813219, 1659.86707854, 1660.41568228]), array([[-2250.32863384,  4094.72620363],\n",
      "       [-3445.568585  ,  2918.46898351],\n",
      "       [-3474.88945212,  2889.23252094],\n",
      "       [-1686.57833744,  4725.76438075],\n",
      "       [-4178.6276058 ,  2255.22014257],\n",
      "       [-2035.65528387,  4408.91984321],\n",
      "       [-3628.91703606,  2840.67640853],\n",
      "       [-2437.36006958,  4057.08611396],\n",
      "       [-3616.61072605,  2887.24804002],\n",
      "       [-2306.17031436,  4200.38907175],\n",
      "       [-3732.68588554,  2776.02398774]]))\n"
     ]
    }
   ],
   "source": [
    "print(pred)"
   ]
  },
  {
   "cell_type": "code",
   "execution_count": 43,
   "id": "a7dbe515",
   "metadata": {},
   "outputs": [
    {
     "name": "stdout",
     "output_type": "stream",
     "text": [
      "[ 922.1987849  -263.54980074 -292.82846559 1519.59302165 -961.70373162\n",
      " 1186.63227967 -394.12031377  809.86302219 -364.68134302  947.1093787\n",
      " -478.3309489 ]\n"
     ]
    },
    {
     "data": {
      "text/plain": [
       "11"
      ]
     },
     "execution_count": 43,
     "metadata": {},
     "output_type": "execute_result"
    }
   ],
   "source": [
    "f = pred[0]\n",
    "print(f)\n",
    "len(f)"
   ]
  },
  {
   "cell_type": "code",
   "execution_count": 3,
   "id": "2fca9b4f",
   "metadata": {},
   "outputs": [],
   "source": [
    "import pandas as pd\n",
    "import numpy as np\n",
    "import matplotlib.pyplot as plt\n"
   ]
  },
  {
   "cell_type": "code",
   "execution_count": 4,
   "id": "b680e625",
   "metadata": {},
   "outputs": [],
   "source": [
    "# ADF (augmented dickey fuller test)\n",
    "from statsmodels.tsa.stattools import adfuller,acf,pacf\n",
    "\n",
    "# ARIMA\n",
    "from statsmodels.tsa.arima_model import ARIMA\n",
    "\n",
    "# to extract the different TS components\n",
    "from statsmodels.tsa.seasonal import seasonal_decompose\n"
   ]
  },
  {
   "cell_type": "code",
   "execution_count": 5,
   "id": "7268e17a",
   "metadata": {},
   "outputs": [],
   "source": [
    "path = \"C:/Users/Ansari Aaquib/Downloads/drive-download-20210519T143124Z-001/mrf/mrf.csv\""
   ]
  },
  {
   "cell_type": "code",
   "execution_count": 6,
   "id": "ccb70ac8",
   "metadata": {},
   "outputs": [],
   "source": [
    "stock = pd.read_csv(path)"
   ]
  },
  {
   "cell_type": "code",
   "execution_count": 7,
   "id": "004e27f9",
   "metadata": {},
   "outputs": [
    {
     "name": "stdout",
     "output_type": "stream",
     "text": [
      "    Month  Open Price  High Price  Low Price  Close Price  No.of Shares  \\\n",
      "0  Jan-06      2780.0      2895.5    2670.00      2811.60         39623   \n",
      "1  Feb-06      2820.0      3399.0    2800.00      3056.45         77350   \n",
      "2  Mar-06      3075.0      3287.5    3040.00      3103.20         55500   \n",
      "3  Apr-06      3160.0      4051.0    3131.00      3456.15        131712   \n",
      "4  May-06      3550.0      3650.0    2747.00      2789.80         29158   \n",
      "5  Jun-06      2860.0      2860.0    2025.20      2395.85         19944   \n",
      "6  Jul-06      2439.0      2970.0    2400.00      2942.40         38013   \n",
      "7  Aug-06      2940.0      3835.0    2884.05      3708.30         83527   \n",
      "8  Sep-06      3667.0      4044.0    3667.00      3836.75         50404   \n",
      "9  Oct-06      3885.0      4770.0    3845.00      4185.50        107956   \n",
      "\n",
      "   No. of Trades  Total Turnover (Rs.)  Deliverable Quantity  \\\n",
      "0           3358             109309329                 27061   \n",
      "1           8001             242294622                 42901   \n",
      "2           4988             176800378                 39229   \n",
      "3          12834             496800616                 59934   \n",
      "4           4432              96482558                 18375   \n",
      "5           3030              48817959                 12863   \n",
      "6           2806              97822495                 27924   \n",
      "7           9440             288265551                 44988   \n",
      "8           5396             193931445                 32615   \n",
      "9          13788             477329035                 45239   \n",
      "\n",
      "   % Deli. Qty to Traded Qty  Spread High-Low  Spread Close-Open  \n",
      "0                      68.30           225.50              31.60  \n",
      "1                      55.46           599.00             236.45  \n",
      "2                      70.68           247.50              28.20  \n",
      "3                      45.50           920.00             296.15  \n",
      "4                      63.02           903.00            -760.20  \n",
      "5                      64.50           834.80            -464.15  \n",
      "6                      73.46           570.00             503.40  \n",
      "7                      53.86           950.95             768.30  \n",
      "8                      64.71           377.00             169.75  \n",
      "9                      41.91           925.00             300.50  \n",
      "     Close Price\n",
      "0        2811.60\n",
      "1        3056.45\n",
      "2        3103.20\n",
      "3        3456.15\n",
      "4        2789.80\n",
      "..           ...\n",
      "120     35607.10\n",
      "121     32429.35\n",
      "122     38368.50\n",
      "123     33791.60\n",
      "124     33759.60\n",
      "\n",
      "[125 rows x 1 columns]\n"
     ]
    },
    {
     "data": {
      "text/plain": [
       "(-0.013389193385995424,\n",
       " 0.9574107029213336,\n",
       " 0,\n",
       " 124,\n",
       " {'1%': -3.484219653271961,\n",
       "  '5%': -2.885145235641637,\n",
       "  '10%': -2.579359138917794},\n",
       " 1978.6902898317956)"
      ]
     },
     "execution_count": 7,
     "metadata": {},
     "output_type": "execute_result"
    },
    {
     "data": {
      "image/png": "[encoded data removed]",
      "text/plain": [
       "<Figure size 432x288 with 4 Axes>"
      ]
     },
     "metadata": {
      "needs_background": "light"
     },
     "output_type": "display_data"
    }
   ],
   "source": [
    "print(stock.head(10))\n",
    "\n",
    "stock.columns\n",
    "\n",
    "# take the feature to do forecast\n",
    "mystock = stock[['Close Price']]\n",
    "print(mystock)\n",
    "\n",
    "# extract the components of a time series data (SCSI components)\n",
    "seasonal_decompose(mystock, period=12).plot();\n",
    "\n",
    "adfuller(mystock)\n"
   ]
  },
  {
   "cell_type": "code",
   "execution_count": 8,
   "id": "5ce0602a",
   "metadata": {},
   "outputs": [
    {
     "data": {
      "text/plain": [
       "'pvalue=0.9574107029213336. Data is not Stationary. Make the data stationary before model building'"
      ]
     },
     "execution_count": 8,
     "metadata": {},
     "output_type": "execute_result"
    }
   ],
   "source": [
    "def checkStationarity(data):\n",
    "    pvalue = adfuller(data)[1]\n",
    "    \n",
    "    if pvalue < 0.05:\n",
    "        msg = \"pvalue={}. Data is Stationary. Proceed to model building\".format(pvalue)\n",
    "    else:\n",
    "        msg = \"pvalue={}. Data is not Stationary. Make the data stationary before model building\".format(pvalue)\n",
    "        \n",
    "    return(msg)\n",
    "\n",
    "# function call\n",
    "checkStationarity(mystock)"
   ]
  },
  {
   "cell_type": "code",
   "execution_count": 9,
   "id": "60a8108e",
   "metadata": {},
   "outputs": [
    {
     "data": {
      "text/plain": [
       "Text(0.5, 1.0, 'Stock Close Prices')"
      ]
     },
     "execution_count": 9,
     "metadata": {},
     "output_type": "execute_result"
    },
    {
     "data": {
      "image/png": "[encoded data removed]",
      "text/plain": [
       "<Figure size 432x288 with 1 Axes>"
      ]
     },
     "metadata": {
      "needs_background": "light"
     },
     "output_type": "display_data"
    }
   ],
   "source": [
    "plt.plot(mystock)\n",
    "plt.title('Stock Close Prices')\n"
   ]
  },
  {
   "cell_type": "code",
   "execution_count": 10,
   "id": "3850b9ed",
   "metadata": {},
   "outputs": [
    {
     "name": "stdout",
     "output_type": "stream",
     "text": [
      "     Close Price\n",
      "0            NaN\n",
      "1         244.85\n",
      "2          46.75\n",
      "3         352.95\n",
      "4        -666.35\n",
      "..           ...\n",
      "120     -4240.50\n",
      "121     -3177.75\n",
      "122      5939.15\n",
      "123     -4576.90\n",
      "124       -32.00\n",
      "\n",
      "[125 rows x 1 columns]\n"
     ]
    }
   ],
   "source": [
    "diff_mystock = mystock - mystock.shift()\n",
    "print(diff_mystock)"
   ]
  },
  {
   "cell_type": "code",
   "execution_count": 11,
   "id": "97d321e4",
   "metadata": {},
   "outputs": [
    {
     "name": "stdout",
     "output_type": "stream",
     "text": [
      "Before removing Nulls,total records =  125\n",
      "After removing Nulls, total records =  124\n",
      "     Close Price\n",
      "1         244.85\n",
      "2          46.75\n",
      "3         352.95\n",
      "4        -666.35\n",
      "5        -393.95\n",
      "..           ...\n",
      "120     -4240.50\n",
      "121     -3177.75\n",
      "122      5939.15\n",
      "123     -4576.90\n",
      "124       -32.00\n",
      "\n",
      "[124 rows x 1 columns]\n"
     ]
    }
   ],
   "source": [
    "print('Before removing Nulls,total records = ', len(diff_mystock))\n",
    "diff_mystock.dropna(inplace = True)\n",
    "print('After removing Nulls, total records = ', len(diff_mystock))\n",
    "print(diff_mystock)"
   ]
  },
  {
   "cell_type": "code",
   "execution_count": 12,
   "id": "e4f3dae7",
   "metadata": {},
   "outputs": [
    {
     "data": {
      "text/plain": [
       "'pvalue=5.060193512253538e-23. Data is Stationary. Proceed to model building'"
      ]
     },
     "execution_count": 12,
     "metadata": {},
     "output_type": "execute_result"
    }
   ],
   "source": [
    "checkStationarity(diff_mystock)"
   ]
  },
  {
   "cell_type": "code",
   "execution_count": 13,
   "id": "661e89f9",
   "metadata": {},
   "outputs": [
    {
     "data": {
      "text/plain": [
       "Text(0.5, 1.0, 'Differenced Close Price Data')"
      ]
     },
     "execution_count": 13,
     "metadata": {},
     "output_type": "execute_result"
    },
    {
     "data": {
      "image/png": "[encoded data removed]",
      "text/plain": [
       "<Figure size 432x288 with 2 Axes>"
      ]
     },
     "metadata": {
      "needs_background": "light"
     },
     "output_type": "display_data"
    }
   ],
   "source": [
    "plt.subplot(121)\n",
    "plt.plot(mystock,color='red')\n",
    "plt.title('Actual Close Price Data')\n",
    "\n",
    "plt.subplot(122)\n",
    "plt.plot(diff_mystock,color='blue')\n",
    "plt.title('Differenced Close Price Data')\n",
    "\n"
   ]
  },
  {
   "cell_type": "code",
   "execution_count": 14,
   "id": "ab95bb07",
   "metadata": {},
   "outputs": [
    {
     "name": "stderr",
     "output_type": "stream",
     "text": [
      "C:\\ProgramData\\Anaconda3\\lib\\site-packages\\statsmodels\\tsa\\stattools.py:667: FutureWarning: fft=True will become the default after the release of the 0.12 release of statsmodels. To suppress this warning, explicitly set fft=False.\n",
      "  warnings.warn(\n"
     ]
    }
   ],
   "source": [
    "lags=20\n",
    "lag_acf = acf(diff_mystock, nlags=lags)\n",
    "lag_pacf = pacf(diff_mystock, nlags=lags, method='ols')\n"
   ]
  },
  {
   "cell_type": "code",
   "execution_count": 15,
   "id": "de49d226",
   "metadata": {},
   "outputs": [
    {
     "data": {
      "text/plain": [
       "Text(0.5, 1.0, 'Auto Correlation [ACF]')"
      ]
     },
     "execution_count": 15,
     "metadata": {},
     "output_type": "execute_result"
    },
    {
     "data": {
      "image/png": "[encoded data removed]",
      "text/plain": [
       "<Figure size 432x288 with 2 Axes>"
      ]
     },
     "metadata": {
      "needs_background": "light"
     },
     "output_type": "display_data"
    }
   ],
   "source": [
    "plt.subplot(121)\n",
    "plt.plot(lag_pacf)\n",
    "plt.axhline(y=0,linestyle='-',color='gray')\n",
    "plt.axhline(y=-1.96/np.sqrt(len(diff_mystock)),linestyle='--',color='green')\n",
    "plt.axhline(y=1.96/np.sqrt(len(diff_mystock)),linestyle='--',color='green')\n",
    "plt.title('Partial Auto Correlation [PACF]')\n",
    "\n",
    "# plot the ACF\n",
    "plt.subplot(122)\n",
    "plt.plot(lag_acf)\n",
    "plt.axhline(y=0,linestyle='-',color='gray')\n",
    "plt.axhline(y=-1.96/np.sqrt(len(diff_mystock)),linestyle='--',color='green')\n",
    "plt.axhline(y=1.96/np.sqrt(len(diff_mystock)),linestyle='--',color='green')\n",
    "plt.title('Auto Correlation [ACF]')\n"
   ]
  },
  {
   "cell_type": "code",
   "execution_count": 16,
   "id": "3d08be6c",
   "metadata": {},
   "outputs": [
    {
     "name": "stderr",
     "output_type": "stream",
     "text": [
      "C:\\ProgramData\\Anaconda3\\lib\\site-packages\\statsmodels\\tsa\\arima_model.py:472: FutureWarning: \n",
      "statsmodels.tsa.arima_model.ARMA and statsmodels.tsa.arima_model.ARIMA have\n",
      "been deprecated in favor of statsmodels.tsa.arima.model.ARIMA (note the .\n",
      "between arima and model) and\n",
      "statsmodels.tsa.SARIMAX. These will be removed after the 0.12 release.\n",
      "\n",
      "statsmodels.tsa.arima.model.ARIMA makes use of the statespace framework and\n",
      "is both well tested and maintained.\n",
      "\n",
      "To silence this warning and continue using ARMA and ARIMA until they are\n",
      "removed, use:\n",
      "\n",
      "import warnings\n",
      "warnings.filterwarnings('ignore', 'statsmodels.tsa.arima_model.ARMA',\n",
      "                        FutureWarning)\n",
      "warnings.filterwarnings('ignore', 'statsmodels.tsa.arima_model.ARIMA',\n",
      "                        FutureWarning)\n",
      "\n",
      "  warnings.warn(ARIMA_DEPRECATION_WARN, FutureWarning)\n",
      "C:\\ProgramData\\Anaconda3\\lib\\site-packages\\statsmodels\\tsa\\base\\tsa_model.py:578: ValueWarning: An unsupported index was provided and will be ignored when e.g. forecasting.\n",
      "  warnings.warn('An unsupported index was provided and will be'\n"
     ]
    },
    {
     "name": "stdout",
     "output_type": "stream",
     "text": [
      "                              ARMA Model Results                              \n",
      "==============================================================================\n",
      "Dep. Variable:            Close Price   No. Observations:                  124\n",
      "Model:                     ARMA(5, 1)   Log Likelihood               -1092.570\n",
      "Method:                       css-mle   S.D. of innovations           1618.666\n",
      "Date:                Wed, 07 Jul 2021   AIC                           2201.141\n",
      "Time:                        14:22:43   BIC                           2223.703\n",
      "Sample:                             0   HQIC                          2210.306\n",
      "                                                                              \n",
      "=====================================================================================\n",
      "                        coef    std err          z      P>|z|      [0.025      0.975]\n",
      "-------------------------------------------------------------------------------------\n",
      "const               251.7505    138.039      1.824      0.068     -18.801     522.302\n",
      "ar.L1.Close Price    -0.9930      0.103     -9.685      0.000      -1.194      -0.792\n",
      "ar.L2.Close Price    -0.0717      0.128     -0.562      0.574      -0.322       0.178\n",
      "ar.L3.Close Price     0.1233      0.127      0.969      0.333      -0.126       0.373\n",
      "ar.L4.Close Price     0.0499      0.128      0.391      0.696      -0.200       0.300\n",
      "ar.L5.Close Price    -0.1287      0.099     -1.306      0.191      -0.322       0.064\n",
      "ma.L1.Close Price     0.9156      0.057     16.034      0.000       0.804       1.028\n",
      "                                    Roots                                    \n",
      "=============================================================================\n",
      "                  Real          Imaginary           Modulus         Frequency\n",
      "-----------------------------------------------------------------------------\n",
      "AR.1           -1.0174           -0.0000j            1.0174           -0.5000\n",
      "AR.2           -0.8538           -1.1425j            1.4263           -0.3521\n",
      "AR.3           -0.8538           +1.1425j            1.4263            0.3521\n",
      "AR.4            1.5564           -1.1536j            1.9373           -0.1015\n",
      "AR.5            1.5564           +1.1536j            1.9373            0.1015\n",
      "MA.1           -1.0922           +0.0000j            1.0922            0.5000\n",
      "-----------------------------------------------------------------------------\n"
     ]
    }
   ],
   "source": [
    "p=5; q=1; d=0\n",
    "\n",
    "# build the ARIMA model\n",
    "m1 = ARIMA(diff_mystock, order=(p,d,q)).fit()\n",
    "print(m1.summary())"
   ]
  },
  {
   "cell_type": "code",
   "execution_count": 17,
   "id": "ee431fc0",
   "metadata": {},
   "outputs": [
    {
     "name": "stdout",
     "output_type": "stream",
     "text": [
      "FTR H0: Good model\n"
     ]
    },
    {
     "name": "stderr",
     "output_type": "stream",
     "text": [
      "C:\\ProgramData\\Anaconda3\\lib\\site-packages\\statsmodels\\stats\\diagnostic.py:559: FutureWarning: The value returned will change to a single DataFrame after 0.12 is released.  Set return_df to True to use to return a DataFrame now.  Set return_df to False to silence this warning.\n",
      "  warnings.warn(msg, FutureWarning)\n"
     ]
    }
   ],
   "source": [
    "import statsmodels.api as sm\n",
    "pvalue = sm.stats.acorr_ljungbox(m1.resid, lags=[1])[1]\n",
    "\n",
    "if pvalue < 0.05:\n",
    "    print('Reject H0: Bad model')\n",
    "else:\n",
    "    print('FTR H0: Good model')"
   ]
  },
  {
   "cell_type": "code",
   "execution_count": 18,
   "id": "677625ef",
   "metadata": {},
   "outputs": [
    {
     "name": "stdout",
     "output_type": "stream",
     "text": [
      "(array([ 922.1987849 , -263.54980074, -292.82846559, 1519.59302165,\n",
      "       -961.70373162, 1186.63227967, -394.12031377,  809.86302219,\n",
      "       -364.68134302,  947.1093787 , -478.3309489 ]), array([1618.6661815 , 1623.50880391, 1623.53033608, 1635.83177262,\n",
      "       1641.31785051, 1644.054477  , 1650.43681813, 1656.77691906,\n",
      "       1659.17813219, 1659.86707854, 1660.41568228]), array([[-2250.32863384,  4094.72620363],\n",
      "       [-3445.568585  ,  2918.46898351],\n",
      "       [-3474.88945212,  2889.23252094],\n",
      "       [-1686.57833744,  4725.76438075],\n",
      "       [-4178.6276058 ,  2255.22014257],\n",
      "       [-2035.65528387,  4408.91984321],\n",
      "       [-3628.91703606,  2840.67640853],\n",
      "       [-2437.36006958,  4057.08611396],\n",
      "       [-3616.61072605,  2887.24804002],\n",
      "       [-2306.17031436,  4200.38907175],\n",
      "       [-3732.68588554,  2776.02398774]]))\n",
      "[ 922.1987849  -263.54980074 -292.82846559 1519.59302165 -961.70373162\n",
      " 1186.63227967 -394.12031377  809.86302219 -364.68134302  947.1093787\n",
      " -478.3309489 ]\n"
     ]
    },
    {
     "data": {
      "text/plain": [
       "11"
      ]
     },
     "execution_count": 18,
     "metadata": {},
     "output_type": "execute_result"
    }
   ],
   "source": [
    "preds = m1.forecast(steps=11)\n",
    "print(preds)\n",
    "\n",
    "# forecasts for the 11 months\n",
    "f = preds[0]\n",
    "print(f)\n",
    "len(f)"
   ]
  },
  {
   "cell_type": "code",
   "execution_count": 19,
   "id": "8099644b",
   "metadata": {},
   "outputs": [
    {
     "name": "stdout",
     "output_type": "stream",
     "text": [
      "     Close Price\n",
      "120     35607.10\n",
      "121     32429.35\n",
      "122     38368.50\n",
      "123     33791.60\n",
      "124     33759.60\n",
      "     Close Price\n",
      "120     -4240.50\n",
      "121     -3177.75\n",
      "122      5939.15\n",
      "123     -4576.90\n",
      "124       -32.00\n"
     ]
    }
   ],
   "source": [
    "print(mystock.tail())\n",
    "print(diff_mystock.tail())"
   ]
  },
  {
   "cell_type": "code",
   "execution_count": 20,
   "id": "e5fe765a",
   "metadata": {},
   "outputs": [],
   "source": [
    "df=pd.DataFrame({'first':mystock.iloc[123]['Close Price'],\n",
    "                'second':mystock.iloc[124]['Close Price'],\n",
    "                'diff':diff_mystock.iloc[123]})\n"
   ]
  },
  {
   "cell_type": "code",
   "execution_count": 21,
   "id": "774cc91e",
   "metadata": {},
   "outputs": [
    {
     "data": {
      "text/html": [
       "<div>\n",
       "<style scoped>\n",
       "    .dataframe tbody tr th:only-of-type {\n",
       "        vertical-align: middle;\n",
       "    }\n",
       "\n",
       "    .dataframe tbody tr th {\n",
       "        vertical-align: top;\n",
       "    }\n",
       "\n",
       "    .dataframe thead th {\n",
       "        text-align: right;\n",
       "    }\n",
       "</style>\n",
       "<table border=\"1\" class=\"dataframe\">\n",
       "  <thead>\n",
       "    <tr style=\"text-align: right;\">\n",
       "      <th></th>\n",
       "      <th>first</th>\n",
       "      <th>second</th>\n",
       "      <th>diff</th>\n",
       "    </tr>\n",
       "  </thead>\n",
       "  <tbody>\n",
       "    <tr>\n",
       "      <th>Close Price</th>\n",
       "      <td>33791.6</td>\n",
       "      <td>33759.6</td>\n",
       "      <td>-32.0</td>\n",
       "    </tr>\n",
       "  </tbody>\n",
       "</table>\n",
       "</div>"
      ],
      "text/plain": [
       "               first   second  diff\n",
       "Close Price  33791.6  33759.6 -32.0"
      ]
     },
     "execution_count": 21,
     "metadata": {},
     "output_type": "execute_result"
    }
   ],
   "source": [
    "df"
   ]
  },
  {
   "cell_type": "code",
   "execution_count": 23,
   "id": "56e25425",
   "metadata": {},
   "outputs": [],
   "source": [
    "for i in range(len(f)):\n",
    "    fv = df['second'][i]\n",
    "    diff = f[i]\n",
    "    sv = fv + diff\n",
    "    \n",
    "    df=df.append({'first':fv,'second':sv,'diff':diff},ignore_index=True)\n"
   ]
  },
  {
   "cell_type": "code",
   "execution_count": 24,
   "id": "aaa1baf7",
   "metadata": {},
   "outputs": [
    {
     "data": {
      "text/html": [
       "<div>\n",
       "<style scoped>\n",
       "    .dataframe tbody tr th:only-of-type {\n",
       "        vertical-align: middle;\n",
       "    }\n",
       "\n",
       "    .dataframe tbody tr th {\n",
       "        vertical-align: top;\n",
       "    }\n",
       "\n",
       "    .dataframe thead th {\n",
       "        text-align: right;\n",
       "    }\n",
       "</style>\n",
       "<table border=\"1\" class=\"dataframe\">\n",
       "  <thead>\n",
       "    <tr style=\"text-align: right;\">\n",
       "      <th></th>\n",
       "      <th>first</th>\n",
       "      <th>second</th>\n",
       "      <th>diff</th>\n",
       "    </tr>\n",
       "  </thead>\n",
       "  <tbody>\n",
       "    <tr>\n",
       "      <th>0</th>\n",
       "      <td>33791.600000</td>\n",
       "      <td>33759.600000</td>\n",
       "      <td>-32.000000</td>\n",
       "    </tr>\n",
       "    <tr>\n",
       "      <th>1</th>\n",
       "      <td>33759.600000</td>\n",
       "      <td>34681.798785</td>\n",
       "      <td>922.198785</td>\n",
       "    </tr>\n",
       "    <tr>\n",
       "      <th>2</th>\n",
       "      <td>34681.798785</td>\n",
       "      <td>34418.248984</td>\n",
       "      <td>-263.549801</td>\n",
       "    </tr>\n",
       "    <tr>\n",
       "      <th>3</th>\n",
       "      <td>34418.248984</td>\n",
       "      <td>34125.420519</td>\n",
       "      <td>-292.828466</td>\n",
       "    </tr>\n",
       "    <tr>\n",
       "      <th>4</th>\n",
       "      <td>34125.420519</td>\n",
       "      <td>35645.013540</td>\n",
       "      <td>1519.593022</td>\n",
       "    </tr>\n",
       "    <tr>\n",
       "      <th>5</th>\n",
       "      <td>35645.013540</td>\n",
       "      <td>34683.309809</td>\n",
       "      <td>-961.703732</td>\n",
       "    </tr>\n",
       "    <tr>\n",
       "      <th>6</th>\n",
       "      <td>34683.309809</td>\n",
       "      <td>35869.942088</td>\n",
       "      <td>1186.632280</td>\n",
       "    </tr>\n",
       "    <tr>\n",
       "      <th>7</th>\n",
       "      <td>35869.942088</td>\n",
       "      <td>35475.821775</td>\n",
       "      <td>-394.120314</td>\n",
       "    </tr>\n",
       "    <tr>\n",
       "      <th>8</th>\n",
       "      <td>35475.821775</td>\n",
       "      <td>36285.684797</td>\n",
       "      <td>809.863022</td>\n",
       "    </tr>\n",
       "    <tr>\n",
       "      <th>9</th>\n",
       "      <td>36285.684797</td>\n",
       "      <td>35921.003454</td>\n",
       "      <td>-364.681343</td>\n",
       "    </tr>\n",
       "    <tr>\n",
       "      <th>10</th>\n",
       "      <td>35921.003454</td>\n",
       "      <td>36868.112832</td>\n",
       "      <td>947.109379</td>\n",
       "    </tr>\n",
       "    <tr>\n",
       "      <th>11</th>\n",
       "      <td>36868.112832</td>\n",
       "      <td>36389.781883</td>\n",
       "      <td>-478.330949</td>\n",
       "    </tr>\n",
       "  </tbody>\n",
       "</table>\n",
       "</div>"
      ],
      "text/plain": [
       "           first        second         diff\n",
       "0   33791.600000  33759.600000   -32.000000\n",
       "1   33759.600000  34681.798785   922.198785\n",
       "2   34681.798785  34418.248984  -263.549801\n",
       "3   34418.248984  34125.420519  -292.828466\n",
       "4   34125.420519  35645.013540  1519.593022\n",
       "5   35645.013540  34683.309809  -961.703732\n",
       "6   34683.309809  35869.942088  1186.632280\n",
       "7   35869.942088  35475.821775  -394.120314\n",
       "8   35475.821775  36285.684797   809.863022\n",
       "9   36285.684797  35921.003454  -364.681343\n",
       "10  35921.003454  36868.112832   947.109379\n",
       "11  36868.112832  36389.781883  -478.330949"
      ]
     },
     "execution_count": 24,
     "metadata": {},
     "output_type": "execute_result"
    }
   ],
   "source": [
    "df"
   ]
  },
  {
   "cell_type": "code",
   "execution_count": 25,
   "id": "7a703c89",
   "metadata": {},
   "outputs": [],
   "source": [
    "lags = 30"
   ]
  },
  {
   "cell_type": "code",
   "execution_count": 26,
   "id": "bbe5e26b",
   "metadata": {},
   "outputs": [],
   "source": [
    "ma = mystock.rolling(window=lags).mean()"
   ]
  },
  {
   "cell_type": "code",
   "execution_count": 27,
   "id": "e0734bae",
   "metadata": {},
   "outputs": [
    {
     "data": {
      "text/html": [
       "<div>\n",
       "<style scoped>\n",
       "    .dataframe tbody tr th:only-of-type {\n",
       "        vertical-align: middle;\n",
       "    }\n",
       "\n",
       "    .dataframe tbody tr th {\n",
       "        vertical-align: top;\n",
       "    }\n",
       "\n",
       "    .dataframe thead th {\n",
       "        text-align: right;\n",
       "    }\n",
       "</style>\n",
       "<table border=\"1\" class=\"dataframe\">\n",
       "  <thead>\n",
       "    <tr style=\"text-align: right;\">\n",
       "      <th></th>\n",
       "      <th>Close Price</th>\n",
       "    </tr>\n",
       "  </thead>\n",
       "  <tbody>\n",
       "    <tr>\n",
       "      <th>0</th>\n",
       "      <td>NaN</td>\n",
       "    </tr>\n",
       "    <tr>\n",
       "      <th>1</th>\n",
       "      <td>NaN</td>\n",
       "    </tr>\n",
       "    <tr>\n",
       "      <th>2</th>\n",
       "      <td>NaN</td>\n",
       "    </tr>\n",
       "    <tr>\n",
       "      <th>3</th>\n",
       "      <td>NaN</td>\n",
       "    </tr>\n",
       "    <tr>\n",
       "      <th>4</th>\n",
       "      <td>NaN</td>\n",
       "    </tr>\n",
       "    <tr>\n",
       "      <th>...</th>\n",
       "      <td>...</td>\n",
       "    </tr>\n",
       "    <tr>\n",
       "      <th>120</th>\n",
       "      <td>29748.430000</td>\n",
       "    </tr>\n",
       "    <tr>\n",
       "      <th>121</th>\n",
       "      <td>30399.780000</td>\n",
       "    </tr>\n",
       "    <tr>\n",
       "      <th>122</th>\n",
       "      <td>31233.880000</td>\n",
       "    </tr>\n",
       "    <tr>\n",
       "      <th>123</th>\n",
       "      <td>31834.833333</td>\n",
       "    </tr>\n",
       "    <tr>\n",
       "      <th>124</th>\n",
       "      <td>32382.938333</td>\n",
       "    </tr>\n",
       "  </tbody>\n",
       "</table>\n",
       "<p>125 rows × 1 columns</p>\n",
       "</div>"
      ],
      "text/plain": [
       "      Close Price\n",
       "0             NaN\n",
       "1             NaN\n",
       "2             NaN\n",
       "3             NaN\n",
       "4             NaN\n",
       "..            ...\n",
       "120  29748.430000\n",
       "121  30399.780000\n",
       "122  31233.880000\n",
       "123  31834.833333\n",
       "124  32382.938333\n",
       "\n",
       "[125 rows x 1 columns]"
      ]
     },
     "execution_count": 27,
     "metadata": {},
     "output_type": "execute_result"
    }
   ],
   "source": [
    "ma"
   ]
  },
  {
   "cell_type": "code",
   "execution_count": 28,
   "id": "8e7da2d4",
   "metadata": {},
   "outputs": [
    {
     "data": {
      "text/plain": [
       "Text(0.5, 1.0, 'Actual Data')"
      ]
     },
     "execution_count": 28,
     "metadata": {},
     "output_type": "execute_result"
    },
    {
     "data": {
      "image/png": "[encoded data removed]",
      "text/plain": [
       "<Figure size 432x288 with 1 Axes>"
      ]
     },
     "metadata": {
      "needs_background": "light"
     },
     "output_type": "display_data"
    }
   ],
   "source": [
    "plt.subplot(121)\n",
    "plt.plot(mystock)\n",
    "plt.title('Actual Data')\n"
   ]
  },
  {
   "cell_type": "code",
   "execution_count": 29,
   "id": "ee6c43c9",
   "metadata": {},
   "outputs": [
    {
     "data": {
      "text/plain": [
       "Text(0.5, 1.0, 'Moving Average')"
      ]
     },
     "execution_count": 29,
     "metadata": {},
     "output_type": "execute_result"
    },
    {
     "data": {
      "image/png": "[encoded data removed]",
      "text/plain": [
       "<Figure size 432x288 with 1 Axes>"
      ]
     },
     "metadata": {
      "needs_background": "light"
     },
     "output_type": "display_data"
    }
   ],
   "source": [
    "plt.subplot(122)\n",
    "plt.plot(ma)\n",
    "plt.title('Moving Average')\n"
   ]
  },
  {
   "cell_type": "code",
   "execution_count": 30,
   "id": "2d694cd6",
   "metadata": {},
   "outputs": [],
   "source": [
    "from statsmodels.tsa.api import SimpleExpSmoothing, Holt\n",
    "from statsmodels.tsa.holtwinters import ExponentialSmoothing"
   ]
  },
  {
   "cell_type": "code",
   "execution_count": 31,
   "id": "2e5df713",
   "metadata": {},
   "outputs": [
    {
     "name": "stderr",
     "output_type": "stream",
     "text": [
      "C:\\ProgramData\\Anaconda3\\lib\\site-packages\\statsmodels\\tsa\\holtwinters\\model.py:427: FutureWarning: After 0.13 initialization must be handled at model creation\n",
      "  warnings.warn(\n"
     ]
    }
   ],
   "source": [
    "m1 = SimpleExpSmoothing(mystock).fit(smoothing_level=0.2,optimized=False)\n"
   ]
  },
  {
   "cell_type": "code",
   "execution_count": 32,
   "id": "e8a30e31",
   "metadata": {},
   "outputs": [],
   "source": [
    "f1 = m1.fittedvalues"
   ]
  },
  {
   "cell_type": "code",
   "execution_count": 34,
   "id": "639e53c3",
   "metadata": {},
   "outputs": [
    {
     "data": {
      "text/html": [
       "<div>\n",
       "<style scoped>\n",
       "    .dataframe tbody tr th:only-of-type {\n",
       "        vertical-align: middle;\n",
       "    }\n",
       "\n",
       "    .dataframe tbody tr th {\n",
       "        vertical-align: top;\n",
       "    }\n",
       "\n",
       "    .dataframe thead th {\n",
       "        text-align: right;\n",
       "    }\n",
       "</style>\n",
       "<table border=\"1\" class=\"dataframe\">\n",
       "  <thead>\n",
       "    <tr style=\"text-align: right;\">\n",
       "      <th></th>\n",
       "      <th>actual</th>\n",
       "      <th>forecast</th>\n",
       "    </tr>\n",
       "  </thead>\n",
       "  <tbody>\n",
       "    <tr>\n",
       "      <th>0</th>\n",
       "      <td>2811.60</td>\n",
       "      <td>2811.600000</td>\n",
       "    </tr>\n",
       "    <tr>\n",
       "      <th>1</th>\n",
       "      <td>3056.45</td>\n",
       "      <td>2811.600000</td>\n",
       "    </tr>\n",
       "    <tr>\n",
       "      <th>2</th>\n",
       "      <td>3103.20</td>\n",
       "      <td>2860.570000</td>\n",
       "    </tr>\n",
       "    <tr>\n",
       "      <th>3</th>\n",
       "      <td>3456.15</td>\n",
       "      <td>2909.096000</td>\n",
       "    </tr>\n",
       "    <tr>\n",
       "      <th>4</th>\n",
       "      <td>2789.80</td>\n",
       "      <td>3018.506800</td>\n",
       "    </tr>\n",
       "    <tr>\n",
       "      <th>...</th>\n",
       "      <td>...</td>\n",
       "      <td>...</td>\n",
       "    </tr>\n",
       "    <tr>\n",
       "      <th>120</th>\n",
       "      <td>35607.10</td>\n",
       "      <td>38688.281887</td>\n",
       "    </tr>\n",
       "    <tr>\n",
       "      <th>121</th>\n",
       "      <td>32429.35</td>\n",
       "      <td>38072.045510</td>\n",
       "    </tr>\n",
       "    <tr>\n",
       "      <th>122</th>\n",
       "      <td>38368.50</td>\n",
       "      <td>36943.506408</td>\n",
       "    </tr>\n",
       "    <tr>\n",
       "      <th>123</th>\n",
       "      <td>33791.60</td>\n",
       "      <td>37228.505126</td>\n",
       "    </tr>\n",
       "    <tr>\n",
       "      <th>124</th>\n",
       "      <td>33759.60</td>\n",
       "      <td>36541.124101</td>\n",
       "    </tr>\n",
       "  </tbody>\n",
       "</table>\n",
       "<p>125 rows × 2 columns</p>\n",
       "</div>"
      ],
      "text/plain": [
       "       actual      forecast\n",
       "0     2811.60   2811.600000\n",
       "1     3056.45   2811.600000\n",
       "2     3103.20   2860.570000\n",
       "3     3456.15   2909.096000\n",
       "4     2789.80   3018.506800\n",
       "..        ...           ...\n",
       "120  35607.10  38688.281887\n",
       "121  32429.35  38072.045510\n",
       "122  38368.50  36943.506408\n",
       "123  33791.60  37228.505126\n",
       "124  33759.60  36541.124101\n",
       "\n",
       "[125 rows x 2 columns]"
      ]
     },
     "execution_count": 34,
     "metadata": {},
     "output_type": "execute_result"
    }
   ],
   "source": [
    "pd.DataFrame({'actual':mystock['Close Price'],'forecast':f1})"
   ]
  },
  {
   "cell_type": "code",
   "execution_count": 35,
   "id": "9c36ea52",
   "metadata": {},
   "outputs": [
    {
     "name": "stderr",
     "output_type": "stream",
     "text": [
      "C:\\ProgramData\\Anaconda3\\lib\\site-packages\\statsmodels\\tsa\\holtwinters\\model.py:427: FutureWarning: After 0.13 initialization must be handled at model creation\n",
      "  warnings.warn(\n"
     ]
    }
   ],
   "source": [
    "m2 = SimpleExpSmoothing(mystock).fit(smoothing_level=0.8,optimized=False)\n",
    "f2 = m2.fittedvalues"
   ]
  },
  {
   "cell_type": "code",
   "execution_count": 36,
   "id": "eb3ea274",
   "metadata": {},
   "outputs": [
    {
     "data": {
      "text/html": [
       "<div>\n",
       "<style scoped>\n",
       "    .dataframe tbody tr th:only-of-type {\n",
       "        vertical-align: middle;\n",
       "    }\n",
       "\n",
       "    .dataframe tbody tr th {\n",
       "        vertical-align: top;\n",
       "    }\n",
       "\n",
       "    .dataframe thead th {\n",
       "        text-align: right;\n",
       "    }\n",
       "</style>\n",
       "<table border=\"1\" class=\"dataframe\">\n",
       "  <thead>\n",
       "    <tr style=\"text-align: right;\">\n",
       "      <th></th>\n",
       "      <th>Actual</th>\n",
       "      <th>Forecast</th>\n",
       "    </tr>\n",
       "  </thead>\n",
       "  <tbody>\n",
       "    <tr>\n",
       "      <th>0</th>\n",
       "      <td>2811.60</td>\n",
       "      <td>2811.600000</td>\n",
       "    </tr>\n",
       "    <tr>\n",
       "      <th>1</th>\n",
       "      <td>3056.45</td>\n",
       "      <td>2811.600000</td>\n",
       "    </tr>\n",
       "    <tr>\n",
       "      <th>2</th>\n",
       "      <td>3103.20</td>\n",
       "      <td>3007.480000</td>\n",
       "    </tr>\n",
       "    <tr>\n",
       "      <th>3</th>\n",
       "      <td>3456.15</td>\n",
       "      <td>3084.056000</td>\n",
       "    </tr>\n",
       "    <tr>\n",
       "      <th>4</th>\n",
       "      <td>2789.80</td>\n",
       "      <td>3381.731200</td>\n",
       "    </tr>\n",
       "    <tr>\n",
       "      <th>...</th>\n",
       "      <td>...</td>\n",
       "      <td>...</td>\n",
       "    </tr>\n",
       "    <tr>\n",
       "      <th>120</th>\n",
       "      <td>35607.10</td>\n",
       "      <td>39698.946318</td>\n",
       "    </tr>\n",
       "    <tr>\n",
       "      <th>121</th>\n",
       "      <td>32429.35</td>\n",
       "      <td>36425.469264</td>\n",
       "    </tr>\n",
       "    <tr>\n",
       "      <th>122</th>\n",
       "      <td>38368.50</td>\n",
       "      <td>33228.573853</td>\n",
       "    </tr>\n",
       "    <tr>\n",
       "      <th>123</th>\n",
       "      <td>33791.60</td>\n",
       "      <td>37340.514771</td>\n",
       "    </tr>\n",
       "    <tr>\n",
       "      <th>124</th>\n",
       "      <td>33759.60</td>\n",
       "      <td>34501.382954</td>\n",
       "    </tr>\n",
       "  </tbody>\n",
       "</table>\n",
       "<p>125 rows × 2 columns</p>\n",
       "</div>"
      ],
      "text/plain": [
       "       Actual      Forecast\n",
       "0     2811.60   2811.600000\n",
       "1     3056.45   2811.600000\n",
       "2     3103.20   3007.480000\n",
       "3     3456.15   3084.056000\n",
       "4     2789.80   3381.731200\n",
       "..        ...           ...\n",
       "120  35607.10  39698.946318\n",
       "121  32429.35  36425.469264\n",
       "122  38368.50  33228.573853\n",
       "123  33791.60  37340.514771\n",
       "124  33759.60  34501.382954\n",
       "\n",
       "[125 rows x 2 columns]"
      ]
     },
     "execution_count": 36,
     "metadata": {},
     "output_type": "execute_result"
    }
   ],
   "source": [
    "pd.DataFrame({'Actual':mystock['Close Price'], 'Forecast':f2})"
   ]
  },
  {
   "cell_type": "code",
   "execution_count": 38,
   "id": "3b96bf2b",
   "metadata": {},
   "outputs": [
    {
     "name": "stderr",
     "output_type": "stream",
     "text": [
      "C:\\ProgramData\\Anaconda3\\lib\\site-packages\\statsmodels\\tsa\\holtwinters\\model.py:427: FutureWarning: After 0.13 initialization must be handled at model creation\n",
      "  warnings.warn(\n",
      "<ipython-input-38-f60c97538327>:1: FutureWarning: the 'smoothing_slope'' keyword is deprecated, use 'smoothing_trend' instead\n",
      "  m3 = ExponentialSmoothing(mystock,trend='additive').fit(smoothing_level=0.2,smoothing_slope=0.5)\n"
     ]
    }
   ],
   "source": [
    "m3 = ExponentialSmoothing(mystock,trend='additive').fit(smoothing_level=0.2,smoothing_slope=0.5)"
   ]
  },
  {
   "cell_type": "code",
   "execution_count": 39,
   "id": "564140fd",
   "metadata": {},
   "outputs": [],
   "source": [
    "f3 = m3.fittedvalues"
   ]
  },
  {
   "cell_type": "code",
   "execution_count": 43,
   "id": "c6866829",
   "metadata": {},
   "outputs": [
    {
     "data": {
      "text/plain": [
       "Text(0.5, 1.0, 'Double Exponent Smoothing')"
      ]
     },
     "execution_count": 43,
     "metadata": {},
     "output_type": "execute_result"
    },
    {
     "data": {
      "image/png": "[encoded data removed]",
      "text/plain": [
       "<Figure size 432x288 with 1 Axes>"
      ]
     },
     "metadata": {
      "needs_background": "light"
     },
     "output_type": "display_data"
    }
   ],
   "source": [
    "plt.plot(mystock,marker='o',color='black',label='Actual Data')\n",
    "plt.plot(f3,marker='.',color='yellow',label='Double Exp Smoothing [0.2, 0.5]')\n",
    "plt.legend()\n",
    "plt.title('Double Exponent Smoothing')"
   ]
  },
  {
   "cell_type": "code",
   "execution_count": 46,
   "id": "097d067b",
   "metadata": {},
   "outputs": [
    {
     "data": {
      "text/plain": [
       "125    32599.045768\n",
       "126    31524.998591\n",
       "127    30450.951414\n",
       "128    29376.904237\n",
       "129    28302.857060\n",
       "130    27228.809883\n",
       "131    26154.762706\n",
       "132    25080.715530\n",
       "133    24006.668353\n",
       "134    22932.621176\n",
       "dtype: float64"
      ]
     },
     "execution_count": 46,
     "metadata": {},
     "output_type": "execute_result"
    }
   ],
   "source": [
    "m3.forecast(10)"
   ]
  },
  {
   "cell_type": "code",
   "execution_count": 47,
   "id": "bd3e3882",
   "metadata": {},
   "outputs": [
    {
     "name": "stderr",
     "output_type": "stream",
     "text": [
      "C:\\ProgramData\\Anaconda3\\lib\\site-packages\\statsmodels\\tsa\\holtwinters\\model.py:427: FutureWarning: After 0.13 initialization must be handled at model creation\n",
      "  warnings.warn(\n",
      "C:\\ProgramData\\Anaconda3\\lib\\site-packages\\statsmodels\\tsa\\holtwinters\\model.py:920: ConvergenceWarning: Optimization failed to converge. Check mle_retvals.\n",
      "  warnings.warn(\n",
      "C:\\ProgramData\\Anaconda3\\lib\\site-packages\\statsmodels\\tsa\\holtwinters\\model.py:920: ConvergenceWarning: Optimization failed to converge. Check mle_retvals.\n",
      "  warnings.warn(\n"
     ]
    }
   ],
   "source": [
    "hm1 = Holt(mystock,exponential=False).fit()\n",
    "\n",
    "# assumption: model is not linear\n",
    "hm2 = Holt(mystock,exponential=True).fit()\n"
   ]
  },
  {
   "cell_type": "code",
   "execution_count": 48,
   "id": "70660000",
   "metadata": {},
   "outputs": [
    {
     "data": {
      "text/plain": [
       "Text(0.5, 1.0, 'Double Exponent Smoothing - Holts library')"
      ]
     },
     "execution_count": 48,
     "metadata": {},
     "output_type": "execute_result"
    },
    {
     "data": {
      "image/png": "[encoded data removed]",
      "text/plain": [
       "<Figure size 432x288 with 1 Axes>"
      ]
     },
     "metadata": {
      "needs_background": "light"
     },
     "output_type": "display_data"
    }
   ],
   "source": [
    "plt.plot(mystock,marker='o',color='black',label='Actual Close Price')\n",
    "plt.plot(hm1.fittedvalues,marker='.',color='yellow',label='Linear Model')\n",
    "plt.plot(hm2.fittedvalues,marker='.',color='green',label='Exponential Model')\n",
    "plt.legend()\n",
    "plt.title('Double Exponent Smoothing - Holts library')\n",
    "######## "
   ]
  },
  {
   "cell_type": "code",
   "execution_count": 53,
   "id": "e165c17f",
   "metadata": {},
   "outputs": [
    {
     "data": {
      "text/html": [
       "<div>\n",
       "<style scoped>\n",
       "    .dataframe tbody tr th:only-of-type {\n",
       "        vertical-align: middle;\n",
       "    }\n",
       "\n",
       "    .dataframe tbody tr th {\n",
       "        vertical-align: top;\n",
       "    }\n",
       "\n",
       "    .dataframe thead th {\n",
       "        text-align: right;\n",
       "    }\n",
       "</style>\n",
       "<table border=\"1\" class=\"dataframe\">\n",
       "  <thead>\n",
       "    <tr style=\"text-align: right;\">\n",
       "      <th></th>\n",
       "      <th>Value</th>\n",
       "    </tr>\n",
       "    <tr>\n",
       "      <th>DATE</th>\n",
       "      <th></th>\n",
       "    </tr>\n",
       "  </thead>\n",
       "  <tbody>\n",
       "    <tr>\n",
       "      <th>1985-01-01</th>\n",
       "      <td>72.5052</td>\n",
       "    </tr>\n",
       "    <tr>\n",
       "      <th>1985-02-01</th>\n",
       "      <td>70.6720</td>\n",
       "    </tr>\n",
       "    <tr>\n",
       "      <th>1985-03-01</th>\n",
       "      <td>62.4502</td>\n",
       "    </tr>\n",
       "    <tr>\n",
       "      <th>1985-04-01</th>\n",
       "      <td>57.4714</td>\n",
       "    </tr>\n",
       "    <tr>\n",
       "      <th>1985-05-01</th>\n",
       "      <td>55.3151</td>\n",
       "    </tr>\n",
       "  </tbody>\n",
       "</table>\n",
       "</div>"
      ],
      "text/plain": [
       "              Value\n",
       "DATE               \n",
       "1985-01-01  72.5052\n",
       "1985-02-01  70.6720\n",
       "1985-03-01  62.4502\n",
       "1985-04-01  57.4714\n",
       "1985-05-01  55.3151"
      ]
     },
     "execution_count": 53,
     "metadata": {},
     "output_type": "execute_result"
    }
   ],
   "source": [
    "path = \"C:/Users/Ansari Aaquib/Downloads/drive-download-20210519T143124Z-001/elecprod/elecprod.csv\"\n",
    "data=pd.read_csv(path,index_col='DATE',parse_dates=True)\n",
    "data.head()"
   ]
  },
  {
   "cell_type": "code",
   "execution_count": 54,
   "id": "291e46ef",
   "metadata": {},
   "outputs": [
    {
     "data": {
      "text/plain": [
       "[<matplotlib.lines.Line2D at 0x1e5603e31f0>]"
      ]
     },
     "execution_count": 54,
     "metadata": {},
     "output_type": "execute_result"
    },
    {
     "data": {
      "image/png": "[encoded data removed]",
      "text/plain": [
       "<Figure size 432x288 with 1 Axes>"
      ]
     },
     "metadata": {
      "needs_background": "light"
     },
     "output_type": "display_data"
    }
   ],
   "source": [
    "plt.plot(data)"
   ]
  },
  {
   "cell_type": "code",
   "execution_count": 55,
   "id": "fc2a391c",
   "metadata": {},
   "outputs": [
    {
     "data": {
      "text/plain": [
       "[<matplotlib.lines.Line2D at 0x1e560209370>]"
      ]
     },
     "execution_count": 55,
     "metadata": {},
     "output_type": "execute_result"
    },
    {
     "data": {
      "image/png": "[encoded data removed]",
      "text/plain": [
       "<Figure size 432x288 with 1 Axes>"
      ]
     },
     "metadata": {
      "needs_background": "light"
     },
     "output_type": "display_data"
    }
   ],
   "source": [
    "plt.plot(data[0:60])"
   ]
  },
  {
   "cell_type": "code",
   "execution_count": 56,
   "id": "25444513",
   "metadata": {},
   "outputs": [
    {
     "data": {
      "text/plain": [
       "DATE\n",
       "1985-01-01     72.5052\n",
       "1985-02-01     70.6720\n",
       "1985-03-01     62.4502\n",
       "1985-04-01     57.4714\n",
       "1985-05-01     55.3151\n",
       "                ...   \n",
       "2017-09-01     98.6154\n",
       "2017-10-01     93.6137\n",
       "2017-11-01     97.3359\n",
       "2017-12-01    114.7212\n",
       "2018-01-01    129.4048\n",
       "Name: Value, Length: 397, dtype: float64"
      ]
     },
     "execution_count": 56,
     "metadata": {},
     "output_type": "execute_result"
    }
   ],
   "source": [
    "data.Value"
   ]
  },
  {
   "cell_type": "code",
   "execution_count": 57,
   "id": "279cd6a3",
   "metadata": {},
   "outputs": [
    {
     "name": "stderr",
     "output_type": "stream",
     "text": [
      "C:\\ProgramData\\Anaconda3\\lib\\site-packages\\statsmodels\\tsa\\base\\tsa_model.py:524: ValueWarning: No frequency information was provided, so inferred frequency MS will be used.\n",
      "  warnings.warn('No frequency information was'\n",
      "C:\\ProgramData\\Anaconda3\\lib\\site-packages\\statsmodels\\tsa\\holtwinters\\model.py:427: FutureWarning: After 0.13 initialization must be handled at model creation\n",
      "  warnings.warn(\n"
     ]
    }
   ],
   "source": [
    "m5 = ExponentialSmoothing(data.Value,trend='add',seasonal='add',seasonal_periods=12).fit()"
   ]
  },
  {
   "cell_type": "code",
   "execution_count": 58,
   "id": "89c681cc",
   "metadata": {},
   "outputs": [
    {
     "data": {
      "text/plain": [
       "Text(0.5, 1.0, 'Triple Exp Smoothing')"
      ]
     },
     "execution_count": 58,
     "metadata": {},
     "output_type": "execute_result"
    },
    {
     "data": {
      "image/png": "[encoded data removed]",
      "text/plain": [
       "<Figure size 432x288 with 1 Axes>"
      ]
     },
     "metadata": {
      "needs_background": "light"
     },
     "output_type": "display_data"
    }
   ],
   "source": [
    "plt.plot(data.Value,marker='o',color='black',label='Actual Elec Prod')\n",
    "plt.plot(m5.fittedvalues,marker='.',color='orange',label='Triple Exp Smoothing')\n",
    "plt.legend()\n",
    "plt.title('Triple Exp Smoothing')"
   ]
  },
  {
   "cell_type": "code",
   "execution_count": 59,
   "id": "8941391d",
   "metadata": {},
   "outputs": [
    {
     "data": {
      "text/html": [
       "<div>\n",
       "<style scoped>\n",
       "    .dataframe tbody tr th:only-of-type {\n",
       "        vertical-align: middle;\n",
       "    }\n",
       "\n",
       "    .dataframe tbody tr th {\n",
       "        vertical-align: top;\n",
       "    }\n",
       "\n",
       "    .dataframe thead th {\n",
       "        text-align: right;\n",
       "    }\n",
       "</style>\n",
       "<table border=\"1\" class=\"dataframe\">\n",
       "  <thead>\n",
       "    <tr style=\"text-align: right;\">\n",
       "      <th></th>\n",
       "      <th>Close Price</th>\n",
       "    </tr>\n",
       "  </thead>\n",
       "  <tbody>\n",
       "    <tr>\n",
       "      <th>0</th>\n",
       "      <td>NaN</td>\n",
       "    </tr>\n",
       "    <tr>\n",
       "      <th>1</th>\n",
       "      <td>NaN</td>\n",
       "    </tr>\n",
       "    <tr>\n",
       "      <th>2</th>\n",
       "      <td>NaN</td>\n",
       "    </tr>\n",
       "    <tr>\n",
       "      <th>3</th>\n",
       "      <td>NaN</td>\n",
       "    </tr>\n",
       "    <tr>\n",
       "      <th>4</th>\n",
       "      <td>NaN</td>\n",
       "    </tr>\n",
       "    <tr>\n",
       "      <th>5</th>\n",
       "      <td>NaN</td>\n",
       "    </tr>\n",
       "    <tr>\n",
       "      <th>6</th>\n",
       "      <td>NaN</td>\n",
       "    </tr>\n",
       "    <tr>\n",
       "      <th>7</th>\n",
       "      <td>NaN</td>\n",
       "    </tr>\n",
       "    <tr>\n",
       "      <th>8</th>\n",
       "      <td>NaN</td>\n",
       "    </tr>\n",
       "    <tr>\n",
       "      <th>9</th>\n",
       "      <td>NaN</td>\n",
       "    </tr>\n",
       "    <tr>\n",
       "      <th>10</th>\n",
       "      <td>NaN</td>\n",
       "    </tr>\n",
       "    <tr>\n",
       "      <th>11</th>\n",
       "      <td>NaN</td>\n",
       "    </tr>\n",
       "    <tr>\n",
       "      <th>12</th>\n",
       "      <td>NaN</td>\n",
       "    </tr>\n",
       "    <tr>\n",
       "      <th>13</th>\n",
       "      <td>NaN</td>\n",
       "    </tr>\n",
       "    <tr>\n",
       "      <th>14</th>\n",
       "      <td>NaN</td>\n",
       "    </tr>\n",
       "    <tr>\n",
       "      <th>15</th>\n",
       "      <td>NaN</td>\n",
       "    </tr>\n",
       "    <tr>\n",
       "      <th>16</th>\n",
       "      <td>NaN</td>\n",
       "    </tr>\n",
       "    <tr>\n",
       "      <th>17</th>\n",
       "      <td>NaN</td>\n",
       "    </tr>\n",
       "    <tr>\n",
       "      <th>18</th>\n",
       "      <td>NaN</td>\n",
       "    </tr>\n",
       "    <tr>\n",
       "      <th>19</th>\n",
       "      <td>NaN</td>\n",
       "    </tr>\n",
       "    <tr>\n",
       "      <th>20</th>\n",
       "      <td>NaN</td>\n",
       "    </tr>\n",
       "    <tr>\n",
       "      <th>21</th>\n",
       "      <td>NaN</td>\n",
       "    </tr>\n",
       "    <tr>\n",
       "      <th>22</th>\n",
       "      <td>NaN</td>\n",
       "    </tr>\n",
       "    <tr>\n",
       "      <th>23</th>\n",
       "      <td>NaN</td>\n",
       "    </tr>\n",
       "    <tr>\n",
       "      <th>24</th>\n",
       "      <td>NaN</td>\n",
       "    </tr>\n",
       "    <tr>\n",
       "      <th>25</th>\n",
       "      <td>NaN</td>\n",
       "    </tr>\n",
       "    <tr>\n",
       "      <th>26</th>\n",
       "      <td>NaN</td>\n",
       "    </tr>\n",
       "    <tr>\n",
       "      <th>27</th>\n",
       "      <td>NaN</td>\n",
       "    </tr>\n",
       "    <tr>\n",
       "      <th>28</th>\n",
       "      <td>NaN</td>\n",
       "    </tr>\n",
       "    <tr>\n",
       "      <th>29</th>\n",
       "      <td>4125.67</td>\n",
       "    </tr>\n",
       "  </tbody>\n",
       "</table>\n",
       "</div>"
      ],
      "text/plain": [
       "    Close Price\n",
       "0           NaN\n",
       "1           NaN\n",
       "2           NaN\n",
       "3           NaN\n",
       "4           NaN\n",
       "5           NaN\n",
       "6           NaN\n",
       "7           NaN\n",
       "8           NaN\n",
       "9           NaN\n",
       "10          NaN\n",
       "11          NaN\n",
       "12          NaN\n",
       "13          NaN\n",
       "14          NaN\n",
       "15          NaN\n",
       "16          NaN\n",
       "17          NaN\n",
       "18          NaN\n",
       "19          NaN\n",
       "20          NaN\n",
       "21          NaN\n",
       "22          NaN\n",
       "23          NaN\n",
       "24          NaN\n",
       "25          NaN\n",
       "26          NaN\n",
       "27          NaN\n",
       "28          NaN\n",
       "29      4125.67"
      ]
     },
     "execution_count": 59,
     "metadata": {},
     "output_type": "execute_result"
    }
   ],
   "source": [
    "ma.head(30)"
   ]
  },
  {
   "cell_type": "code",
   "execution_count": null,
   "id": "9323462a",
   "metadata": {},
   "outputs": [],
   "source": []
  }
 ],
 "metadata": {
  "kernelspec": {
   "display_name": "Python 3",
   "language": "python",
   "name": "python3"
  },
  "language_info": {
   "codemirror_mode": {
    "name": "ipython",
    "version": 3
   },
   "file_extension": ".py",
   "mimetype": "text/x-python",
   "name": "python",
   "nbconvert_exporter": "python",
   "pygments_lexer": "ipython3",
   "version": "3.8.8"
  }
 },
 "nbformat": 4,
 "nbformat_minor": 5
}
